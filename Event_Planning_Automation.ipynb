{
 "cells": [
  {
   "cell_type": "markdown",
   "id": "3444fde7-c2d4-49f2-a7c3-799df5d17184",
   "metadata": {},
   "source": [
    "# Event Planning Automation\n",
    "\n",
    "##### In this project, we will automate event planning workflow using 3 Agents\n",
    "- Venue Coordinator\n",
    "- Logistics Manager\n",
    "- Marketing and Communications Agent"
   ]
  },
  {
   "cell_type": "markdown",
   "id": "7fe41bc3-8e57-4eb4-ace0-7b079e8b9f77",
   "metadata": {},
   "source": [
    "##### These 3 Agents will perform the following tasks\n",
    "\n",
    "- Venue Task (done by Venue Coordinator)\n",
    "- Logistics Task (done by Logistics Manager) - **Async Task**\n",
    "- Marketing Task (done by Marketing and Communications Agent) - **Async Task**"
   ]
  },
  {
   "cell_type": "markdown",
   "id": "95249737-0ca5-4b6c-b004-e78ba54b63b4",
   "metadata": {},
   "source": [
    "Venue Task will generate a json file `venue_details.json` using a Pydantic model `VenueDetails`\n",
    "\n",
    "Venue Task and Logistics Task will wait for human input to asses and verify the output before finalizing it"
   ]
  },
  {
   "cell_type": "markdown",
   "id": "3717434a-e9f2-48be-8889-056bde358d79",
   "metadata": {},
   "source": [
    "## Step 01. Installing the libraries (crewai and crewai_tools)\n",
    "\n",
    "**Note:** crewai requires python version >=3.10 and <=3.13"
   ]
  },
  {
   "cell_type": "code",
   "execution_count": 1,
   "id": "2474e0db-f0b0-4b33-88e8-c784ef7fafff",
   "metadata": {},
   "outputs": [
    {
     "name": "stdout",
     "output_type": "stream",
     "text": [
      "3.11.8 (main, Feb 26 2024, 15:43:17) [Clang 14.0.6 ]\n"
     ]
    }
   ],
   "source": [
    "import sys\n",
    "print(sys.version)"
   ]
  },
  {
   "cell_type": "code",
   "execution_count": 2,
   "id": "b862d002-bc5f-4dda-b180-8674e5226839",
   "metadata": {},
   "outputs": [],
   "source": [
    "# !pip install crewai"
   ]
  },
  {
   "cell_type": "code",
   "execution_count": 3,
   "id": "e9f18321-fe31-4e3b-a6b5-21877c6294c9",
   "metadata": {
    "scrolled": true
   },
   "outputs": [],
   "source": [
    "# !pip install crewai_tools"
   ]
  },
  {
   "cell_type": "code",
   "execution_count": 4,
   "id": "d939516d-6572-4baa-a752-64b8797042bb",
   "metadata": {},
   "outputs": [],
   "source": [
    "# Warning control\n",
    "import warnings\n",
    "warnings.filterwarnings('ignore')"
   ]
  },
  {
   "cell_type": "markdown",
   "id": "1ef7f8e6-abea-4452-b52b-af242c6f46d4",
   "metadata": {},
   "source": [
    "## Step 02. Importing modules, LLMs and libraries \n",
    "\n",
    "**Note:** We need to provide openai model name, and api_keys as environment variables in order to use Agent class\n",
    "\n",
    "**Note:** SerperDevTool (tool by crewai, for Google search) also requires api key"
   ]
  },
  {
   "cell_type": "code",
   "execution_count": null,
   "id": "7dec3bda-c75e-497b-97a2-13f0e3182be3",
   "metadata": {},
   "outputs": [],
   "source": [
    "import os\n",
    "from dotenv import load_dotenv\n",
    "\n",
    "load_dotenv()\n",
    "\n",
    "os.environ[\"OPENAI_MODEL_NAME\"] = \"gpt-4-0125-preview\"\n",
    "os.environ[\"OPENAI_API_KEY\"] = os.getenv(\"OPENAI_API_KEY\")\n",
    "os.environ[\"SERPER_API_KEY\"] = os.getenv(\"SERPER_API_KEY\")"
   ]
  },
  {
   "cell_type": "code",
   "execution_count": 59,
   "id": "c8b92f0b-945d-45a3-a7f5-56148094c1ac",
   "metadata": {},
   "outputs": [],
   "source": [
    "from crewai import Agent, Task, Crew"
   ]
  },
  {
   "cell_type": "markdown",
   "id": "df8de90c-47c4-41f1-bd03-ebc57664e764",
   "metadata": {},
   "source": [
    "## Step 03. Creating Agents\n",
    "\n",
    "Creating 3 agents\n",
    "- Venue Coordinator\n",
    "- Logistics Manager\n",
    "- Marketing and Communications Agent"
   ]
  },
  {
   "cell_type": "markdown",
   "id": "62022002-39ab-48ce-baf9-aa5c79ed51a1",
   "metadata": {},
   "source": [
    "### crewAI Tools"
   ]
  },
  {
   "cell_type": "code",
   "execution_count": 60,
   "id": "77811570-a159-43ec-bc82-c8aa8d9922a7",
   "metadata": {},
   "outputs": [],
   "source": [
    "from crewai_tools import SerperDevTool, ScrapeWebsiteTool\n",
    "\n",
    "# Initialize the tools\n",
    "search_tool = SerperDevTool()\n",
    "scrape_tool = ScrapeWebsiteTool()"
   ]
  },
  {
   "cell_type": "markdown",
   "id": "e6a5089e-f21d-4725-95f5-f9a4830ecf6d",
   "metadata": {},
   "source": [
    "### Agent 1: Venue Coordinator "
   ]
  },
  {
   "cell_type": "code",
   "execution_count": 61,
   "id": "5dd1d8e9-4e16-4ed7-86d9-7d7da097f2b6",
   "metadata": {},
   "outputs": [],
   "source": [
    "venue_coordinator = Agent(\n",
    "    role=\"Venue Coordinator\",\n",
    "    goal=\"Identify and book an appropriate venue \"\n",
    "    \"based on event requirements\",\n",
    "    backstory=(\n",
    "        \"With a keen sense of space and \"\n",
    "        \"understanding of event logistics, \"\n",
    "        \"you excel at finding and securing \"\n",
    "        \"the perfect venue that fits the event's theme, \"\n",
    "        \"size, and budget constraints.\"\n",
    "    ),\n",
    "    tools=[search_tool, scrape_tool],\n",
    "    verbose=True\n",
    ")"
   ]
  },
  {
   "cell_type": "markdown",
   "id": "f614dd94-e394-44c1-9a3f-9620e73b365c",
   "metadata": {},
   "source": [
    "### Agent 2: Logistics Manager"
   ]
  },
  {
   "cell_type": "code",
   "execution_count": 62,
   "id": "6ade918c-2c25-44a7-bf82-bbd40bb42390",
   "metadata": {},
   "outputs": [],
   "source": [
    "logisitics_manager = Agent(\n",
    "    role=\"Logistics Manager\",\n",
    "    goal=(\n",
    "        \"Manage all logistics for the event \"\n",
    "        \"including catering and equipment\"\n",
    "    ),\n",
    "    backstory=(\n",
    "        \"Organized and detail-oriented, \"\n",
    "        \"you ensure that every logistical aspect of the event \"\n",
    "        \"from catering to equipment setup \"\n",
    "        \"is flawlessly executed to create a seamless experience.\"\n",
    "    ),\n",
    "    tools=[search_tool, scrape_tool],\n",
    "    verbose=True\n",
    ")"
   ]
  },
  {
   "cell_type": "markdown",
   "id": "c203f75f-5fab-4aeb-a266-d854c933a6cc",
   "metadata": {},
   "source": [
    "### Agent 3: Marketing and Communication Agent "
   ]
  },
  {
   "cell_type": "code",
   "execution_count": 63,
   "id": "ab593eb2-b881-4422-b746-a017594bafa2",
   "metadata": {},
   "outputs": [],
   "source": [
    "marketing_communications_agent = Agent(\n",
    "    role=\"Marketing and Communications Agent\",\n",
    "    goal=\"Effectively market the event and \"\n",
    "         \"communicate with participants\",\n",
    "    backstory=(\n",
    "        \"Creative and communicative, \"\n",
    "        \"you craft compelling messages and \"\n",
    "        \"engage with potential attendees \"\n",
    "        \"to maximize event exposure and participation.\"\n",
    "    ),\n",
    "    tools=[search_tool, scrape_tool],\n",
    "    verbose=True\n",
    ")"
   ]
  },
  {
   "cell_type": "markdown",
   "id": "ed2bd1ea-8f77-441c-b21b-e03ffc7914ef",
   "metadata": {},
   "source": [
    "## Step 03. Creating Tasks\n",
    "\n",
    "Here, we will be creating 3 tasks\n",
    "\n",
    "- Venue Task (done by Venue Coordinator)\n",
    "- Logistics Task (done by Logistics Manager) - **Async Task**\n",
    "- Marketing Task (done by Marketing and Communications Agent) - **Async Task**"
   ]
  },
  {
   "cell_type": "markdown",
   "id": "fda0b097-a1da-43dc-87ca-2d57551c3b57",
   "metadata": {},
   "source": [
    "### Creating VenueDetails Pydantic Model\n",
    "\n",
    "- Create a class `VenueDetails` using [Pydantic BaseModel](https://docs.pydantic.dev/latest/api/base_model/).\n",
    "- Agents will populate this object with information about different venues by creating different instances of it."
   ]
  },
  {
   "cell_type": "code",
   "execution_count": 64,
   "id": "1ee3afdc-a653-4054-8293-9b77d15dba01",
   "metadata": {},
   "outputs": [],
   "source": [
    "from pydantic import BaseModel"
   ]
  },
  {
   "cell_type": "code",
   "execution_count": 65,
   "id": "e2def4be-25e4-4830-af41-58b774953c5b",
   "metadata": {},
   "outputs": [],
   "source": [
    "class VenueDetails(BaseModel):\n",
    "    name: str\n",
    "    address: str\n",
    "    capacity: int\n",
    "    booking_status: str"
   ]
  },
  {
   "cell_type": "markdown",
   "id": "12973dfa-844c-4493-bed1-2486bbe1c4c7",
   "metadata": {},
   "source": [
    "### Creating Tasks\n",
    "- By using `output_json`, you can specify the structure of the output you want.\n",
    "- By using `output_file`, you can get your output in a file.\n",
    "- By setting `human_input=True`, the task will ask for human feedback (whether you like the results or not) before finalising it."
   ]
  },
  {
   "cell_type": "markdown",
   "id": "f9b7ff91-d4ff-4a36-9040-aa4234504aa4",
   "metadata": {},
   "source": [
    "#### Task 1: Venue Task"
   ]
  },
  {
   "cell_type": "code",
   "execution_count": 66,
   "id": "76120c73-8e30-4b16-89a8-34026bed64dd",
   "metadata": {},
   "outputs": [],
   "source": [
    "venue_task = Task(\n",
    "    description=\"Find a venue in {event_city} \"\n",
    "                \"that meets criteria for {event_topic}.\",\n",
    "    expected_output=\"All the details of a specifically chosen\"\n",
    "                    \"venue you found to accommodate the event.\",\n",
    "    output_json=VenueDetails,\n",
    "    output_file=\"venue_details.json\",  # Outputs the venue details as a JSON file\n",
    "    agent=venue_coordinator,\n",
    "    human_input=True\n",
    "    # human_input=False\n",
    ")"
   ]
  },
  {
   "cell_type": "markdown",
   "id": "0e34c1a4-8966-4ea7-a6d8-9c8c82c75c85",
   "metadata": {},
   "source": [
    "### Task 2: Logistics Task"
   ]
  },
  {
   "cell_type": "code",
   "execution_count": 67,
   "id": "33f1faa1-a2e9-4a26-a845-5304ba5a8209",
   "metadata": {},
   "outputs": [],
   "source": [
    "logsitics_task = Task(\n",
    "    description=\"Coordinate catering and \"\n",
    "                 \"equipment for an event \"\n",
    "                 \"with {expected_participants} participants \"\n",
    "                 \"on {tentative_date}.\",\n",
    "    expected_output=\"Confirmation of all logistics arrangements \"\n",
    "                    \"including catering and equipment setup.\",\n",
    "    agent=logisitics_manager,\n",
    "    human_input=True,\n",
    "    # human_input=False,\n",
    "    async_execution=False, ## 2 tasks cant be async\n",
    ")"
   ]
  },
  {
   "cell_type": "markdown",
   "id": "1903a5a6-c83f-4955-8825-faba40938e35",
   "metadata": {},
   "source": [
    "### Task 3: Marketing Task \n",
    "\n",
    "- By setting `async_execution=True`, it means the task can run in parallel with the tasks which come after it."
   ]
  },
  {
   "cell_type": "code",
   "execution_count": 68,
   "id": "fc33455b-36cd-4df2-a191-7d409aabcd95",
   "metadata": {},
   "outputs": [],
   "source": [
    "marketing_task = Task(\n",
    "    description=\"Promote the {event_topic} \"\n",
    "                \"aiming to engage at least\"\n",
    "                \"{expected_participants} potential attendees.\",\n",
    "    expected_output=\"Report on marketing activities \"\n",
    "                    \"and attendee engagement formatted as markdown.\",\n",
    "    agent=marketing_communications_agent,\n",
    "    async_execution=True,\n",
    "    output_file=\"marketing_report.md\" # Outputs the report as a text file\n",
    ")"
   ]
  },
  {
   "cell_type": "markdown",
   "id": "c8ddcbe0-ec41-4ba1-9351-967a9f969041",
   "metadata": {},
   "source": [
    "## Creating Crew "
   ]
  },
  {
   "cell_type": "markdown",
   "id": "5f02a5a7-a9af-4979-93a5-6af44258fda5",
   "metadata": {},
   "source": [
    "**Note**: Since you set `async_execution=True` for `logistics_task` and `marketing_task` tasks, now the order for them does not matter in the `tasks` list."
   ]
  },
  {
   "cell_type": "code",
   "execution_count": 69,
   "id": "fc108f5e-9d76-4628-852a-26a4ce99eae3",
   "metadata": {},
   "outputs": [],
   "source": [
    "crew = Crew(\n",
    "    agents=[venue_coordinator, logisitics_manager, marketing_communications_agent],\n",
    "    tasks=[venue_task, logsitics_task, marketing_task],\n",
    "    verbose=True\n",
    ")"
   ]
  },
  {
   "cell_type": "markdown",
   "id": "0e0ddc79-ee99-400e-aee5-576b0b8d4dd2",
   "metadata": {},
   "source": [
    "### Running the crew\n",
    "\n",
    "Setting the inputs for execution of the crew"
   ]
  },
  {
   "cell_type": "code",
   "execution_count": 75,
   "id": "3e84e5b2-980f-43e2-853d-8ff097299974",
   "metadata": {},
   "outputs": [],
   "source": [
    "event_details = {\n",
    "    'event_topic': \"Marriage Reception Ceremony\",\n",
    "    'event_description': \"A gathering of family, close relatives and friends \"\n",
    "                         \"to attend our Marriage Reception Ceremony.\",\n",
    "    'event_city': \"Siliguri\",\n",
    "    'tentative_date': \"2025-04-17\",\n",
    "    'expected_participants': 2000,\n",
    "    'budget': 1500000,\n",
    "    'venue_type': \"Banquet Halls or Playgrounds\"\n",
    "}"
   ]
  },
  {
   "cell_type": "markdown",
   "id": "19584154-20eb-454c-a9ba-84c6a17693cd",
   "metadata": {},
   "source": [
    "**Note 2**: \n",
    "- Since you set `human_input=True` for some tasks, the execution will ask for your input before it finishes running.\n",
    "- When it asks for feedback, use your mouse pointer to first click in the text box before typing anything."
   ]
  },
  {
   "cell_type": "code",
   "execution_count": null,
   "id": "9a8823c5-23ec-4029-be21-bb28b600b4c7",
   "metadata": {},
   "outputs": [],
   "source": [
    "results = crew.kickoff(inputs=event_details)"
   ]
  },
  {
   "cell_type": "code",
   "execution_count": 72,
   "id": "68d151dd-4c14-47a3-a6af-6c9aa72e4498",
   "metadata": {},
   "outputs": [
    {
     "name": "stdout",
     "output_type": "stream",
     "text": [
      "{'address': '1, Udham Singh Sarani, Sevoke Road, Siliguri - 734001 (Near Ghosh '\n",
      "            'Nursery Building)',\n",
      " 'booking_status': 'Please contact them directly for booking information and '\n",
      "                   'to confirm availability for your desired dates.',\n",
      " 'capacity': 0,\n",
      " 'name': 'Soubhagya Palace'}\n"
     ]
    }
   ],
   "source": [
    "import json\n",
    "from pprint import pprint\n",
    "\n",
    "with open('venue_details.json') as f:\n",
    "   data = json.load(f)\n",
    "\n",
    "pprint(data)"
   ]
  },
  {
   "cell_type": "markdown",
   "id": "27ca43e0-da44-4e53-9613-a8fd4e3ce3c6",
   "metadata": {},
   "source": [
    "- Display the generated `marketing_report.md` file.\n",
    "\n",
    "**Note**: After `kickoff` execution has successfully ran, wait an extra 45 seconds for the `marketing_report.md` file to be generated. If you try to run the code below before the file has been generated, your output would look like:\n",
    "\n",
    "```\n",
    "marketing_report.md\n",
    "```\n",
    "\n",
    "If you see this output, wait some more and than try again."
   ]
  },
  {
   "cell_type": "code",
   "execution_count": 52,
   "id": "360ef216-dffe-4aa5-9960-b70817b425d1",
   "metadata": {},
   "outputs": [
    {
     "data": {
      "text/markdown": [
       "Thought: To create an effective marketing plan and gauge potential attendee engagement, I need to understand current trends in promoting events such as a Marriage Reception Ceremony. This will help identify the best platforms and strategies for reaching our target audience of at least 2000 potential attendees. I should start by researching the most effective ways to market a wedding reception or similar events."
      ],
      "text/plain": [
       "<IPython.core.display.Markdown object>"
      ]
     },
     "execution_count": 52,
     "metadata": {},
     "output_type": "execute_result"
    }
   ],
   "source": [
    "from IPython.display import Markdown\n",
    "Markdown(\"marketing_report.md\")"
   ]
  },
  {
   "cell_type": "code",
   "execution_count": null,
   "id": "cf9e1b27-77d4-4d6d-a373-bb771bf64d21",
   "metadata": {},
   "outputs": [],
   "source": []
  }
 ],
 "metadata": {
  "kernelspec": {
   "display_name": "Python 3",
   "language": "python",
   "name": "python3"
  },
  "language_info": {
   "codemirror_mode": {
    "name": "ipython",
    "version": 3
   },
   "file_extension": ".py",
   "mimetype": "text/x-python",
   "name": "python",
   "nbconvert_exporter": "python",
   "pygments_lexer": "ipython3",
   "version": "3.11.8"
  }
 },
 "nbformat": 4,
 "nbformat_minor": 5
}
